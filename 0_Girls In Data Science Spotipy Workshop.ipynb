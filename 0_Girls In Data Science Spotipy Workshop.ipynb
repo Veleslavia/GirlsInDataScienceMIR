{
 "cells": [
  {
   "cell_type": "markdown",
   "metadata": {},
   "source": [
    "Licensed under the Apache License, Version 2.0\n",
    "\n",
    "# Data Science for Music Information Retrieval: Spotify Workshop"
   ]
  },
  {
   "cell_type": "markdown",
   "metadata": {},
   "source": [
    "These notebooks consist of a serie of examples of usage of Spotify data.\n",
    "\n",
    "After performing the assignments in the first notebook, you will know\n",
    " * how to **create a Spotify App** as a developer\n",
    " * how to **get the data from Spotify** using [spotipy](https://spotipy.readthedocs.io/en/latest/)\n",
    " * **which genres** you are listening in a short, medium and long term\n",
    " * what is the share of **popular music** in your playlists\n",
    " * what is the share of **local music** in your playlists\n",
    "\n",
    "After performing the assignments in the second notebook, you will know\n",
    " * how to create **your own Discover Weekly** playlist \n",
    " * which **audio features** you can use to analyse your music\n",
    " * how to get **automatic recommendations** from Spotify\n",
    " * how to use *a classifier* to **filter out bad recommendations**\n",
    "\n",
    "\n",
    "Even though we are using toy examples, the overall ideas will remain the same for real world applications. Enjoy coding and learning! \n",
    "<img src=\"https://static.businessinsider.com/image/55eb14a0dd0895cc608b4586-1200/image.jpg\" width=300 alt=\"spotify-discover-weekly-plot\">"
   ]
  },
  {
   "cell_type": "markdown",
   "metadata": {},
   "source": [
    "### Preparation\n",
    "\n",
    "Download this dataset if you don't have a Spotify account\n",
    "\n",
    "### Dependencies\n",
    "\n",
    "You will need to install the following libraries data analysis and visualisation libraries:\n",
    "\n",
    "*scipy, scikit-learn, spotipy, numpy, matplotlib, plotly*"
   ]
  },
  {
   "cell_type": "code",
   "execution_count": 3,
   "metadata": {},
   "outputs": [
    {
     "name": "stdout",
     "output_type": "stream",
     "text": [
      "Requirement already satisfied: numpy in /usr/local/lib/python3.7/site-packages (1.14.5)\n",
      "Collecting matplotlib\n",
      "  Using cached https://files.pythonhosted.org/packages/ec/ed/46b835da53b7ed05bd4c6cae293f13ec26e877d2e490a53a709915a9dcb7/matplotlib-2.2.2.tar.gz\n",
      "^C\n"
     ]
    }
   ],
   "source": [
    "!pip3 install numpy matplotlib spotipy plotly scipy scikit-learn pandas "
   ]
  },
  {
   "cell_type": "markdown",
   "metadata": {},
   "source": [
    "\n",
    "* Step-by-step guide\n",
    "    * Get your Spotify Credentials and create an app\n",
    "    * Learn about scopes\n",
    "    * Login and get some basic user information\n",
    "    * Learn about time horizon ['short_term', 'medium_term', 'long_term']\n",
    "    * Get genre distributions for different time horizons and compare it\n",
    "    * Try to find out how much popular music you listen\n",
    "    * Try to find out how much local music you listen\n",
    "    * Generate a playlist based on your recent activity\n",
    "        * Get ids of recently played tracks\n",
    "        * Get musical features of recently played tracks\n",
    "        * Get musical features of all the tracks\n",
    "        * Order the tracks from \"old\" to \"new\" \n",
    "        * Do a multi-class classification\n",
    "        * Get recommendations and do classification again\n",
    "    * Do clustering of all the tracks in the library by:\n",
    "        * popularity + audio features + is_local\n",
    "        "
   ]
  },
  {
   "cell_type": "markdown",
   "metadata": {},
   "source": [
    "### Related links\n",
    "\n",
    "* https://medium.com/black-tech-diva/visualizing-data-from-the-spotify-api-d9106cac72f1\n",
    "* https://developer.spotify.com/documentation/web-api/reference/personalization/get-users-top-artists-and-tracks/\n",
    "* https://towardsdatascience.com/making-your-own-discover-weekly-f1ac7546fedb\n",
    "\n",
    "Everything we need is here:\n",
    " * https://github.com/plamere/spotipy/blob/master/spotipy/client.py even recently played \n",
    " * https://developer.spotify.com/documentation/general/guides/scopes/\n"
   ]
  },
  {
   "cell_type": "code",
   "execution_count": null,
   "metadata": {},
   "outputs": [],
   "source": []
  }
 ],
 "metadata": {
  "kernelspec": {
   "display_name": "Python 3",
   "language": "python",
   "name": "python3"
  },
  "language_info": {
   "codemirror_mode": {
    "name": "ipython",
    "version": 3
   },
   "file_extension": ".py",
   "mimetype": "text/x-python",
   "name": "python",
   "nbconvert_exporter": "python",
   "pygments_lexer": "ipython3",
   "version": "3.7.0"
  }
 },
 "nbformat": 4,
 "nbformat_minor": 2
}
